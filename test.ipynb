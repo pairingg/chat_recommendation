{
 "cells": [],
 "metadata": {
  "kernelspec": {
   "display_name": "pairing_interest_analysis-env",
   "language": "python",
   "name": "python3"
  },
  "language_info": {
   "name": "python",
   "version": "3.10.16"
  }
 },
 "nbformat": 4,
 "nbformat_minor": 2
}
